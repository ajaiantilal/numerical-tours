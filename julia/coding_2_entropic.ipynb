{
 "cells": [
  {
   "cell_type": "markdown",
   "source": [
    "Entropic Coding and Compression\r\n",
    "===============================\r\n",
    "\r\n",
    "*Important:* Please read the [installation page](http://gpeyre.github.io/numerical-tours/installation_python/) for details about how to install the toolboxes.\r\n",
    "$\\newcommand{\\dotp}[2]{\\langle #1, #2 \\rangle}$\r\n",
    "$\\newcommand{\\enscond}[2]{\\lbrace #1, #2 \\rbrace}$\r\n",
    "$\\newcommand{\\pd}[2]{ \\frac{ \\partial #1}{\\partial #2} }$\r\n",
    "$\\newcommand{\\umin}[1]{\\underset{#1}{\\min}\\;}$\r\n",
    "$\\newcommand{\\umax}[1]{\\underset{#1}{\\max}\\;}$\r\n",
    "$\\newcommand{\\umin}[1]{\\underset{#1}{\\min}\\;}$\r\n",
    "$\\newcommand{\\uargmin}[1]{\\underset{#1}{argmin}\\;}$\r\n",
    "$\\newcommand{\\norm}[1]{\\|#1\\|}$\r\n",
    "$\\newcommand{\\abs}[1]{\\left|#1\\right|}$\r\n",
    "$\\newcommand{\\choice}[1]{ \\left\\{  \\begin{array}{l} #1 \\end{array} \\right. }$\r\n",
    "$\\newcommand{\\pa}[1]{\\left(#1\\right)}$\r\n",
    "$\\newcommand{\\diag}[1]{{diag}\\left( #1 \\right)}$\r\n",
    "$\\newcommand{\\qandq}{\\quad\\text{and}\\quad}$\r\n",
    "$\\newcommand{\\qwhereq}{\\quad\\text{where}\\quad}$\r\n",
    "$\\newcommand{\\qifq}{ \\quad \\text{if} \\quad }$\r\n",
    "$\\newcommand{\\qarrq}{ \\quad \\Longrightarrow \\quad }$\r\n",
    "$\\newcommand{\\ZZ}{\\mathbb{Z}}$\r\n",
    "$\\newcommand{\\CC}{\\mathbb{C}}$\r\n",
    "$\\newcommand{\\RR}{\\mathbb{R}}$\r\n",
    "$\\newcommand{\\EE}{\\mathbb{E}}$\r\n",
    "$\\newcommand{\\Zz}{\\mathcal{Z}}$\r\n",
    "$\\newcommand{\\Ww}{\\mathcal{W}}$\r\n",
    "$\\newcommand{\\Vv}{\\mathcal{V}}$\r\n",
    "$\\newcommand{\\Nn}{\\mathcal{N}}$\r\n",
    "$\\newcommand{\\NN}{\\mathcal{N}}$\r\n",
    "$\\newcommand{\\Hh}{\\mathcal{H}}$\r\n",
    "$\\newcommand{\\Bb}{\\mathcal{B}}$\r\n",
    "$\\newcommand{\\Ee}{\\mathcal{E}}$\r\n",
    "$\\newcommand{\\Cc}{\\mathcal{C}}$\r\n",
    "$\\newcommand{\\Gg}{\\mathcal{G}}$\r\n",
    "$\\newcommand{\\Ss}{\\mathcal{S}}$\r\n",
    "$\\newcommand{\\Pp}{\\mathcal{P}}$\r\n",
    "$\\newcommand{\\Ff}{\\mathcal{F}}$\r\n",
    "$\\newcommand{\\Xx}{\\mathcal{X}}$\r\n",
    "$\\newcommand{\\Mm}{\\mathcal{M}}$\r\n",
    "$\\newcommand{\\Ii}{\\mathcal{I}}$\r\n",
    "$\\newcommand{\\Dd}{\\mathcal{D}}$\r\n",
    "$\\newcommand{\\Ll}{\\mathcal{L}}$\r\n",
    "$\\newcommand{\\Tt}{\\mathcal{T}}$\r\n",
    "$\\newcommand{\\si}{\\sigma}$\r\n",
    "$\\newcommand{\\al}{\\alpha}$\r\n",
    "$\\newcommand{\\la}{\\lambda}$\r\n",
    "$\\newcommand{\\ga}{\\gamma}$\r\n",
    "$\\newcommand{\\Ga}{\\Gamma}$\r\n",
    "$\\newcommand{\\La}{\\Lambda}$\r\n",
    "$\\newcommand{\\si}{\\sigma}$\r\n",
    "$\\newcommand{\\Si}{\\Sigma}$\r\n",
    "$\\newcommand{\\be}{\\beta}$\r\n",
    "$\\newcommand{\\de}{\\delta}$\r\n",
    "$\\newcommand{\\De}{\\Delta}$\r\n",
    "$\\newcommand{\\phi}{\\varphi}$\r\n",
    "$\\newcommand{\\th}{\\theta}$\r\n",
    "$\\newcommand{\\om}{\\omega}$\r\n",
    "$\\newcommand{\\Om}{\\Omega}$"
   ],
   "metadata": {}
  },
  {
   "cell_type": "code",
   "execution_count": null,
   "source": [],
   "outputs": [],
   "metadata": {}
  },
  {
   "cell_type": "markdown",
   "source": [
    "This numerical tour studies source coding using entropic coders (Huffman and arithmetic)."
   ],
   "metadata": {}
  },
  {
   "cell_type": "code",
   "execution_count": 1,
   "source": [
    "using PyPlot\r\n",
    "using NtToolBox\r\n",
    "using LinearAlgebra #for norm\r\n"
   ],
   "outputs": [
    {
     "output_type": "stream",
     "name": "stderr",
     "text": [
      "┌ Info: Precompiling NtToolBox [077e15ba-1a11-4fec-9f4c-6ee2a1777f2a]\n",
      "└ @ Base loading.jl:1317\n",
      "\u001b[33m\u001b[1m┌ \u001b[22m\u001b[39m\u001b[33m\u001b[1mWarning: \u001b[22m\u001b[39mPackage NtToolBox does not have PyPlot in its dependencies:\n",
      "\u001b[33m\u001b[1m│ \u001b[22m\u001b[39m- If you have NtToolBox checked out for development and have\n",
      "\u001b[33m\u001b[1m│ \u001b[22m\u001b[39m  added PyPlot as a dependency but haven't updated your primary\n",
      "\u001b[33m\u001b[1m│ \u001b[22m\u001b[39m  environment's manifest file, try `Pkg.resolve()`.\n",
      "\u001b[33m\u001b[1m│ \u001b[22m\u001b[39m- Otherwise you may need to report an issue with NtToolBox\n",
      "\u001b[33m\u001b[1m└ \u001b[22m\u001b[39mLoading PyPlot into NtToolBox from project dependency, future warnings for NtToolBox are suppressed.\n"
     ]
    }
   ],
   "metadata": {}
  },
  {
   "cell_type": "markdown",
   "source": [
    "Source Coding and Entropy\r\n",
    "-------------------------\r\n",
    "Entropic coding converts a vector $x$ of integers into a binary stream\r\n",
    "$y$. Entropic coding exploits the\r\n",
    "redundancies in the statistical distribution of the entries of $x$ to\r\n",
    "reduce as much as possible the size of $y$. The lower bound for the\r\n",
    "number of bits $p$ of $y$ is the Shannon bound :\r\n",
    "\r\n",
    "$$p=-\\sum_ih(i)\\log_2(h(i))$$\r\n",
    "\r\n",
    "where $h(i)$ is the probability of apparition of symbol $i$ in $x$.\r\n",
    "\r\n",
    "Fist we generate a simple binary signal $x$ so that $0$ has a probability $p$\r\n",
    "to appear in $x$.\r\n",
    "\r\n",
    "Probability of 0."
   ],
   "metadata": {}
  },
  {
   "cell_type": "code",
   "execution_count": 2,
   "source": [
    "p = 0.1;"
   ],
   "outputs": [],
   "metadata": {
    "collapsed": true
   }
  },
  {
   "cell_type": "markdown",
   "source": [
    "Size.\n"
   ],
   "metadata": {}
  },
  {
   "cell_type": "code",
   "execution_count": 3,
   "source": [
    "n = 512;"
   ],
   "outputs": [],
   "metadata": {
    "collapsed": true
   }
  },
  {
   "cell_type": "markdown",
   "source": [
    "Signal, should be with token 1,2."
   ],
   "metadata": {}
  },
  {
   "cell_type": "code",
   "execution_count": 4,
   "source": [
    "x = (rand(n) .> p) .+ 1;"
   ],
   "outputs": [],
   "metadata": {
    "collapsed": true
   }
  },
  {
   "cell_type": "markdown",
   "source": [
    "One can check the probabilities by computing the empirical histogram."
   ],
   "metadata": {}
  },
  {
   "cell_type": "code",
   "execution_count": 5,
   "source": [
    "h = [sum(x .== 1); sum(x .== 2)]\r\n",
    "h = h/sum(h)\r\n",
    "\r\n",
    "print(\"Empirical p = $(h[1])\")"
   ],
   "outputs": [
    {
     "output_type": "stream",
     "name": "stdout",
     "text": [
      "Empirical p = 0.08203125"
     ]
    }
   ],
   "metadata": {}
  },
  {
   "cell_type": "markdown",
   "source": [
    "We can compute the entropy of the distribution represented as a vector $h$ of proability that should sum to 1.\n",
    "We take a max to avoid problems with null probabilties."
   ],
   "metadata": {}
  },
  {
   "cell_type": "code",
   "execution_count": 6,
   "source": [
    "e = - sum(h.*log2.([max(e,1e-20) for e in h]))\r\n",
    "print(\"Entropy = $e\")"
   ],
   "outputs": [
    {
     "output_type": "stream",
     "name": "stdout",
     "text": [
      "Entropy = 0.4092962956205902"
     ]
    }
   ],
   "metadata": {}
  },
  {
   "cell_type": "markdown",
   "source": [
    "Huffman Coding\n",
    "--------------\n",
    "A Hufman code $C$ associates to each symbol $i$ in $\\{1,...,m\\}$ a binary code $C_i$\n",
    "whose length is as close as possible to the optimal bound\n",
    "$-\\log_2\\left(h(i)\\right)$, where $h(i)$ is the probability of apparition of the\n",
    "symbol $i$.\n",
    "\n",
    "We select a set of proabilities."
   ],
   "metadata": {}
  },
  {
   "cell_type": "code",
   "execution_count": 7,
   "source": [
    "h = [.1, .15, .4, .15, .2];"
   ],
   "outputs": [],
   "metadata": {
    "collapsed": true
   }
  },
  {
   "cell_type": "markdown",
   "source": [
    "The tree $T$ contains the codes and is generated by an iterative algorithm.\n",
    "The initial \"tree\" is a collection of empty trees, pointing to the symbols numbers."
   ],
   "metadata": {}
  },
  {
   "cell_type": "code",
   "execution_count": 8,
   "source": [
    "m = length(h)\r\n",
    "T=Array{Any,1}(zeros(m)); # create an empty tree"
   ],
   "outputs": [],
   "metadata": {
    "collapsed": true
   }
  },
  {
   "cell_type": "markdown",
   "source": [
    "We build iteratively the Huffman tree\n",
    "by grouping together the two erees that have the smallest probabilities.\n",
    "The merged tree has a probability which is the sum of the two selected\n",
    "probabilities.\n",
    "\n",
    "Initial probability."
   ],
   "metadata": {}
  },
  {
   "cell_type": "code",
   "execution_count": 9,
   "source": [
    "#we use the symbols i = 0,1,2,3,4 (as strings) with the associated probabilities h(i)\r\n",
    "\r\n",
    "for i in 1:m\r\n",
    "    T[i] = (h[i],string(i))\r\n",
    "end"
   ],
   "outputs": [],
   "metadata": {
    "collapsed": true
   }
  },
  {
   "cell_type": "markdown",
   "source": [
    "Iterative merging of the leading probabilities."
   ],
   "metadata": {}
  },
  {
   "cell_type": "code",
   "execution_count": 10,
   "source": [
    "while length(T) > 1\r\n",
    "\r\n",
    "    sort!(T) #sort according to the first values of the tuples (the probabilities)\r\n",
    "    t = tuple(T[1:2]...)\r\n",
    "    q = T[1][1] + T[2][1]\r\n",
    "    T = [T[3:end]; [(q,t)]]\r\n",
    "end"
   ],
   "outputs": [],
   "metadata": {
    "collapsed": true,
    "scrolled": true
   }
  },
  {
   "cell_type": "markdown",
   "source": [
    "We trim the computed tree by removing the probabilities."
   ],
   "metadata": {}
  },
  {
   "cell_type": "code",
   "execution_count": 11,
   "source": [
    "function trim(T)\r\n",
    "    T0 = T[2]\r\n",
    "    if typeof(T0) == String\r\n",
    "        return T0\r\n",
    "    else\r\n",
    "        return (trim(T0[1]),trim(T0[2]))\r\n",
    "    end\r\n",
    "end\r\n",
    "T = trim(T[1]);"
   ],
   "outputs": [],
   "metadata": {
    "collapsed": true
   }
  },
  {
   "cell_type": "markdown",
   "source": [
    "We display the computed tree."
   ],
   "metadata": {}
  },
  {
   "cell_type": "code",
   "execution_count": 12,
   "source": [
    "plot_hufftree(T);"
   ],
   "outputs": [
    {
     "output_type": "display_data",
     "data": {
      "text/plain": [
       "Figure(PyObject <Figure size 1000x1000 with 1 Axes>)"
      ],
      "image/png": "[encoded data removed]"
     },
     "metadata": {}
    }
   ],
   "metadata": {}
  },
  {
   "cell_type": "markdown",
   "source": [
    "Once the tree $T$ is computed, one can compute the code $C_{i}$\n",
    "associated to each symbol $i$. This requires to perform a deep first\n",
    "search in the tree and stop at each node."
   ],
   "metadata": {}
  },
  {
   "cell_type": "code",
   "execution_count": 13,
   "source": [
    "codes = Dict()\r\n",
    "\r\n",
    "function huffman_gencode(T,codes,c)\r\n",
    "    if typeof(T) == String #test if T is a leaf\r\n",
    "        codes[T] = c\r\n",
    "    else\r\n",
    "        huffman_gencode(T[1],codes, string(c, \"0\"))\r\n",
    "        huffman_gencode(T[2],codes, string(c, \"1\"))\r\n",
    "    end\r\n",
    "end\r\n",
    "\r\n",
    "huffman_gencode(T,codes,\"\") ;"
   ],
   "outputs": [],
   "metadata": {
    "collapsed": true
   }
  },
  {
   "cell_type": "markdown",
   "source": [
    "Display the code."
   ],
   "metadata": {}
  },
  {
   "cell_type": "code",
   "execution_count": 14,
   "source": [
    "for e in keys(codes)\r\n",
    "    println(string(\"Code of token \", e, \": \", codes[e]))\r\n",
    "end"
   ],
   "outputs": [
    {
     "output_type": "stream",
     "name": "stdout",
     "text": [
      "Code of token 4: 110\n",
      "Code of token 1: 100\n",
      "Code of token 5: 111\n",
      "Code of token 2: 101\n",
      "Code of token 3: 0\n"
     ]
    }
   ],
   "metadata": {}
  },
  {
   "cell_type": "markdown",
   "source": [
    "We draw a vector $x$ according to the distribution $h$.\n",
    "\n",
    "Size of the signal."
   ],
   "metadata": {}
  },
  {
   "cell_type": "code",
   "execution_count": 15,
   "source": [
    "n = 1024;"
   ],
   "outputs": [],
   "metadata": {
    "collapsed": true
   }
  },
  {
   "cell_type": "markdown",
   "source": [
    "Randomization."
   ],
   "metadata": {}
  },
  {
   "cell_type": "code",
   "execution_count": 16,
   "source": [
    "x = rand_discr(h, m=n);"
   ],
   "outputs": [],
   "metadata": {}
  },
  {
   "cell_type": "markdown",
   "source": [
    "__Exercise 1__\n",
    "\n",
    "Implement the coding of the vector $x$ to obtain a binary vector $y$, which corresponds to replacing each sybmol $x(i)$ by the code $C_{x(i)}$."
   ],
   "metadata": {}
  },
  {
   "cell_type": "code",
   "execution_count": 17,
   "source": [
    "include(\"NtSolutions/coding_2_entropic/exo1.jl\")"
   ],
   "outputs": [],
   "metadata": {
    "collapsed": true
   }
  },
  {
   "cell_type": "code",
   "execution_count": 18,
   "source": [
    "## Insert your code here."
   ],
   "outputs": [],
   "metadata": {
    "collapsed": true
   }
  },
  {
   "cell_type": "markdown",
   "source": [
    "Compare the length of the code with the entropy bound."
   ],
   "metadata": {}
  },
  {
   "cell_type": "code",
   "execution_count": 19,
   "source": [
    "e = - sum(h.*log2.([max(e,1e-20) for e in h]))\r\n",
    "println(\"Entropy bound = $(n*e)\")\r\n",
    "println(\"Huffman code  = $(length(y))\") "
   ],
   "outputs": [
    {
     "output_type": "stream",
     "name": "stdout",
     "text": [
      "Entropy bound = 2197.9538889431196\n",
      "Huffman code  = 2232\n"
     ]
    }
   ],
   "metadata": {}
  },
  {
   "cell_type": "markdown",
   "source": [
    "Decoding is more complicated, since it requires to iteratively parse the tree $T$."
   ],
   "metadata": {}
  },
  {
   "cell_type": "markdown",
   "source": [
    "Initial empty decoded stream."
   ],
   "metadata": {}
  },
  {
   "cell_type": "code",
   "execution_count": 20,
   "source": [
    "x1 = [];"
   ],
   "outputs": [],
   "metadata": {
    "collapsed": true
   }
  },
  {
   "cell_type": "markdown",
   "source": [
    "Perform decoding."
   ],
   "metadata": {}
  },
  {
   "cell_type": "code",
   "execution_count": 21,
   "source": [
    "T0 = T\r\n",
    "for e in y\r\n",
    "    if e == '0'\r\n",
    "            T0 = T0[1]\r\n",
    "    else\r\n",
    "            T0 = T0[2]\r\n",
    "    end\r\n",
    "    if typeof(T0) == String\r\n",
    "        append!(x1,T0)\r\n",
    "        T0 = T\r\n",
    "    end\r\n",
    "end\r\n",
    "    "
   ],
   "outputs": [],
   "metadata": {
    "collapsed": true
   }
  },
  {
   "cell_type": "markdown",
   "source": [
    "We test if the decoding is correct."
   ],
   "metadata": {}
  },
  {
   "cell_type": "code",
   "execution_count": 22,
   "source": [
    "err = norm(x-map(x->parse(Int, x), x1))\r\n",
    "print(\"Error (should be zero) : $err\")"
   ],
   "outputs": [
    {
     "output_type": "stream",
     "name": "stdout",
     "text": [
      "Error (should be zero) : 0.0"
     ]
    }
   ],
   "metadata": {}
  },
  {
   "cell_type": "markdown",
   "source": [
    "Huffman Block Coding\n",
    "--------------------\n",
    "A Huffman coder is inefficient because it can distribute only an integer\n",
    "number of bit per symbol. In particular, distribution where one of the\n",
    "symbol has a large probability are not well coded using a Huffman code.\n",
    "This can be aleviated by replacing the set of $m$ symbols by $m^q$\n",
    "symbols obtained by packing the symbols by blocks of $q$ (here we use $m=2$ for a binary alphabet). This breaks\n",
    "symbols with large probability into many symbols with smaller proablity,\n",
    "thus approaching the Shannon entropy bound.\n",
    "\n",
    "\n",
    "Generate a binary vector with a high probability of having 1, so that the\n",
    "Huffman code is not very efficient (far from Shanon bound).\n",
    "\n",
    "Proability of having 0."
   ],
   "metadata": {}
  },
  {
   "cell_type": "code",
   "execution_count": 23,
   "source": [
    "t = .12;"
   ],
   "outputs": [],
   "metadata": {
    "collapsed": true
   }
  },
  {
   "cell_type": "markdown",
   "source": [
    "Probability distriution."
   ],
   "metadata": {}
  },
  {
   "cell_type": "code",
   "execution_count": 24,
   "source": [
    "h = [t, 1-t];"
   ],
   "outputs": [],
   "metadata": {
    "collapsed": true
   }
  },
  {
   "cell_type": "markdown",
   "source": [
    "Generate signal."
   ],
   "metadata": {}
  },
  {
   "cell_type": "code",
   "execution_count": 25,
   "source": [
    "n = 4096*2\r\n",
    "x = (rand(n) .> t) .+ 1;"
   ],
   "outputs": [],
   "metadata": {
    "collapsed": true
   }
  },
  {
   "cell_type": "markdown",
   "source": [
    "For block of length $q=3$, create a new vector by coding each block\n",
    "with an integer in $\\{1,...,m^q=2^3\\}$. The new length of the vector is\n",
    "$n_1/q$ where $n_1=\\lceil n/q\\rceil q$.\n",
    "\n",
    "Block size."
   ],
   "metadata": {}
  },
  {
   "cell_type": "code",
   "execution_count": 26,
   "source": [
    "q = 3;"
   ],
   "outputs": [],
   "metadata": {
    "collapsed": true
   }
  },
  {
   "cell_type": "markdown",
   "source": [
    "Maximum token value."
   ],
   "metadata": {}
  },
  {
   "cell_type": "code",
   "execution_count": 27,
   "source": [
    "m = 2;"
   ],
   "outputs": [],
   "metadata": {
    "collapsed": true
   }
  },
  {
   "cell_type": "markdown",
   "source": [
    "New size."
   ],
   "metadata": {}
  },
  {
   "cell_type": "code",
   "execution_count": 28,
   "source": [
    "n1 = Int(ceil(n/q)*q);"
   ],
   "outputs": [],
   "metadata": {
    "collapsed": true
   }
  },
  {
   "cell_type": "markdown",
   "source": [
    "New vector."
   ],
   "metadata": {}
  },
  {
   "cell_type": "code",
   "execution_count": 29,
   "source": [
    "x1 = zeros(n1)\r\n",
    "x1[1:length(x)] .= x\r\n",
    "x1[length(x)+1:end] .= 1\r\n",
    "x1 .= x1 .- 1\r\n",
    "x2 = []\r\n",
    "\r\n",
    "mult = [m^j for j in 0:q-1]\r\n",
    "for i in 1:q:n1-1\r\n",
    "    append!(x2,sum(x1[i:i+q-1].*mult)+1)\r\n",
    "end"
   ],
   "outputs": [],
   "metadata": {
    "collapsed": true
   }
  },
  {
   "cell_type": "code",
   "execution_count": 30,
   "source": [
    "H = h\r\n",
    "for i in 1:q-1\r\n",
    "    Hold = H\r\n",
    "    H = []\r\n",
    "    for j in 1:length(h)\r\n",
    "        append!(H,[e*h[j] for e in Hold])\r\n",
    "    end\r\n",
    "end"
   ],
   "outputs": [],
   "metadata": {
    "collapsed": true
   }
  },
  {
   "cell_type": "markdown",
   "source": [
    "A simpler way to compute this block-histogram is to use the Kronecker product."
   ],
   "metadata": {}
  },
  {
   "cell_type": "code",
   "execution_count": 31,
   "source": [
    "H = h\r\n",
    "for i in 1:q-1\r\n",
    "    H = kron(H, h)\r\n",
    "end"
   ],
   "outputs": [],
   "metadata": {
    "collapsed": true
   }
  },
  {
   "cell_type": "markdown",
   "source": [
    "__Exercise 2__\n",
    "\n",
    "For various values of block size $k$, Perform the Huffman coding and compute the length of the code.\n",
    "Compare with the entropy lower bound."
   ],
   "metadata": {}
  },
  {
   "cell_type": "code",
   "execution_count": 32,
   "source": [
    "include(\"NtSolutions/coding_2_entropic/exo2.jl\");"
   ],
   "outputs": [
    {
     "output_type": "stream",
     "name": "stdout",
     "text": [
      "Entropy bound = 0.5293608652873644\n",
      "---\n"
     ]
    },
    {
     "output_type": "stream",
     "name": "stderr",
     "text": [
      "┌ Warning: Assignment to `n1` in soft scope is ambiguous because a global variable by the same name exists: `n1` will be treated as a new local. Disambiguate by using `local n1` to suppress this warning or `global n1` to assign to the existing global variable.\n",
      "└ @ nothing c:\\Users\\Abhi\\git\\numerical-tours-AJ\\julia\\NtSolutions\\coding_2_entropic\\exo2.jl:11\n",
      "┌ Warning: Assignment to `x1` in soft scope is ambiguous because a global variable by the same name exists: `x1` will be treated as a new local. Disambiguate by using `local x1` to suppress this warning or `global x1` to assign to the existing global variable.\n",
      "└ @ nothing c:\\Users\\Abhi\\git\\numerical-tours-AJ\\julia\\NtSolutions\\coding_2_entropic\\exo2.jl:14\n",
      "┌ Warning: Assignment to `x2` in soft scope is ambiguous because a global variable by the same name exists: `x2` will be treated as a new local. Disambiguate by using `local x2` to suppress this warning or `global x2` to assign to the existing global variable.\n",
      "└ @ nothing c:\\Users\\Abhi\\git\\numerical-tours-AJ\\julia\\NtSolutions\\coding_2_entropic\\exo2.jl:18\n",
      "┌ Warning: Assignment to `mult` in soft scope is ambiguous because a global variable by the same name exists: `mult` will be treated as a new local. Disambiguate by using `local mult` to suppress this warning or `global mult` to assign to the existing global variable.\n",
      "└ @ nothing c:\\Users\\Abhi\\git\\numerical-tours-AJ\\julia\\NtSolutions\\coding_2_entropic\\exo2.jl:20\n",
      "┌ Warning: Assignment to `H` in soft scope is ambiguous because a global variable by the same name exists: `H` will be treated as a new local. Disambiguate by using `local H` to suppress this warning or `global H` to assign to the existing global variable.\n",
      "└ @ nothing c:\\Users\\Abhi\\git\\numerical-tours-AJ\\julia\\NtSolutions\\coding_2_entropic\\exo2.jl:26\n",
      "┌ Warning: Assignment to `m` in soft scope is ambiguous because a global variable by the same name exists: `m` will be treated as a new local. Disambiguate by using `local m` to suppress this warning or `global m` to assign to the existing global variable.\n",
      "└ @ nothing c:\\Users\\Abhi\\git\\numerical-tours-AJ\\julia\\NtSolutions\\coding_2_entropic\\exo2.jl:32\n",
      "┌ Warning: Assignment to `T` in soft scope is ambiguous because a global variable by the same name exists: `T` will be treated as a new local. Disambiguate by using `local T` to suppress this warning or `global T` to assign to the existing global variable.\n",
      "└ @ nothing c:\\Users\\Abhi\\git\\numerical-tours-AJ\\julia\\NtSolutions\\coding_2_entropic\\exo2.jl:33\n",
      "┌ Warning: Assignment to `t` in soft scope is ambiguous because a global variable by the same name exists: `t` will be treated as a new local. Disambiguate by using `local t` to suppress this warning or `global t` to assign to the existing global variable.\n",
      "└ @ nothing c:\\Users\\Abhi\\git\\numerical-tours-AJ\\julia\\NtSolutions\\coding_2_entropic\\exo2.jl:41\n",
      "┌ Warning: Assignment to `q` in soft scope is ambiguous because a global variable by the same name exists: `q` will be treated as a new local. Disambiguate by using `local q` to suppress this warning or `global q` to assign to the existing global variable.\n",
      "└ @ nothing c:\\Users\\Abhi\\git\\numerical-tours-AJ\\julia\\NtSolutions\\coding_2_entropic\\exo2.jl:42\n",
      "┌ Warning: Assignment to `codes` in soft scope is ambiguous because a global variable by the same name exists: `codes` will be treated as a new local. Disambiguate by using `local codes` to suppress this warning or `global codes` to assign to the existing global variable.\n",
      "└ @ nothing c:\\Users\\Abhi\\git\\numerical-tours-AJ\\julia\\NtSolutions\\coding_2_entropic\\exo2.jl:48\n",
      "┌ Warning: Assignment to `y` in soft scope is ambiguous because a global variable by the same name exists: `y` will be treated as a new local. Disambiguate by using `local y` to suppress this warning or `global y` to assign to the existing global variable.\n",
      "└ @ nothing c:\\Users\\Abhi\\git\\numerical-tours-AJ\\julia\\NtSolutions\\coding_2_entropic\\exo2.jl:52\n"
     ]
    },
    {
     "output_type": "stream",
     "name": "stdout",
     "text": [
      "Huffman(block size = 1) = 1.0\n"
     ]
    },
    {
     "output_type": "stream",
     "name": "stderr",
     "text": [
      "┌ Warning: Assignment to `err` in soft scope is ambiguous because a global variable by the same name exists: `err` will be treated as a new local. Disambiguate by using `local err` to suppress this warning or `global err` to assign to the existing global variable.\n",
      "└ @ nothing c:\\Users\\Abhi\\git\\numerical-tours-AJ\\julia\\NtSolutions\\coding_2_entropic\\exo2.jl:57\n"
     ]
    },
    {
     "output_type": "stream",
     "name": "stdout",
     "text": [
      "Huffman(block size = 2) = 0.666748046875\n",
      "Huffman(block size = 3) = 0.5623779296875\n",
      "Huffman(block size = 4) = 0.53173828125\n",
      "Huffman(block size = 5) = 0.525146484375\n",
      "Huffman(block size = 6) = 0.51708984375\n",
      "Huffman(block size = 7) = 0.529296875\n",
      "Huffman(block size = 8) = 0.526123046875\n",
      "Huffman(block size = 9) = 0.5252685546875\n"
     ]
    },
    {
     "output_type": "display_data",
     "data": {
      "text/plain": [
       "Figure(PyObject <Figure size 700x500 with 1 Axes>)"
      ],
      "image/png": "[encoded data removed]"
     },
     "metadata": {}
    },
    {
     "output_type": "stream",
     "name": "stdout",
     "text": [
      "Huffman(block size = 10) = 0.5238037109375\n"
     ]
    }
   ],
   "metadata": {}
  },
  {
   "cell_type": "code",
   "execution_count": 33,
   "source": [
    "## Insert your code here."
   ],
   "outputs": [],
   "metadata": {
    "collapsed": true
   }
  },
  {
   "cell_type": "markdown",
   "source": [
    "<script>\n",
    "  $(document).ready(function(){\n",
    "      $('div.prompt').hide();\n",
    "  });\n",
    "</script>"
   ],
   "metadata": {}
  }
 ],
 "metadata": {
  "anaconda-cloud": {},
  "kernelspec": {
   "display_name": "Julia 1.6.1",
   "language": "julia",
   "name": "julia-1.6"
  },
  "language_info": {
   "file_extension": ".jl",
   "name": "julia",
   "mimetype": "application/julia",
   "version": "1.6.1"
  }
 },
 "nbformat": 4,
 "nbformat_minor": 1
}